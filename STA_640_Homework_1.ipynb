{
  "nbformat": 4,
  "nbformat_minor": 0,
  "metadata": {
    "colab": {
      "provenance": []
    },
    "kernelspec": {
      "name": "python3",
      "display_name": "Python 3"
    },
    "language_info": {
      "name": "python"
    }
  },
  "cells": [
    {
      "cell_type": "code",
      "execution_count": null,
      "metadata": {
        "id": "8HmZ_8ELkgun"
      },
      "outputs": [],
      "source": [
        "import random\n",
        "import pandas as pd\n",
        "import numpy as np\n",
        "from itertools import combinations\n",
        "import scipy.stats as stats"
      ]
    },
    {
      "cell_type": "markdown",
      "source": [
        "###**Part 1: Fisher’s mode of inference of Randomized Experiments**<br/>"
      ],
      "metadata": {
        "id": "W-R9Ine1mWqa"
      }
    },
    {
      "cell_type": "markdown",
      "source": [
        "1. In children at risk for malaria, research is conducted in stimulating the immune system with\n",
        "micronutrients supplementation, an important one being vitamin A (e.g., Shankar et al., Lancet 1999, 354:203-9). Table 1 gives measurements of the malaria parasite Plasmodium falciparum (Pf), in $log_e$ (counts / microL), for 6 children taking vitamin A supplementation and 6 children taking a control (placebo) treatment.\n",
        "\n",
        "    We wish to test Fisher’s (sharp) null hypothesis of no treatment effect on these 12 children. Take the test statistic to be the difference in sample means. Assume that the assignment in Table 1 was a completely randomized experiment\n",
        "\n",
        "<center>\n",
        "  <caption> Table 1: Parasite load [$log_e$(count/microL)].</caption>\n",
        "  <table>\n",
        "    <tr>\n",
        "      <th>\n",
        "        Placebo\n",
        "      </th>\n",
        "      <th>\n",
        "        Vitamin A\n",
        "      </th>\n",
        "    </tr>\n",
        "    <tr>\n",
        "      <td> 8.62 </td>\n",
        "      <td> 0.06 </td> \n",
        "    </tr>\n",
        "    <tr>\n",
        "      <td> 1.48 </td>\n",
        "      <td> 1.72 </td> \n",
        "    </tr>\n",
        "    <tr>\n",
        "      <td> 8.93 </td>\n",
        "      <td> 2.19 </td> \n",
        "    </tr>\n",
        "    <tr>\n",
        "      <td> 9.57 </td>\n",
        "      <td> 7.37 </td> \n",
        "    </tr>\n",
        "    <tr>\n",
        "      <td> 2.65 </td>\n",
        "      <td> 7.53 </td> \n",
        "    </tr>\n",
        "    <tr>\n",
        "      <td> 7.30 </td>\n",
        "      <td> 7.62 </td> \n",
        "    </tr>\n",
        "  </table>\n",
        "</center>\n",
        "\n"
      ],
      "metadata": {
        "id": "LdO8XGKUknEl"
      }
    },
    {
      "cell_type": "code",
      "source": [
        "control = [8.62, 1.48, 8.93, 9.57, 2.65, 7.30]\n",
        "treatment = [0.06, 1.72, 2.19, 7.32, 7.53, 7.62]\n",
        "all = np.array(control+treatment).reshape((12, 1))"
      ],
      "metadata": {
        "id": "VxJd_VHOkmf3"
      },
      "execution_count": null,
      "outputs": []
    },
    {
      "cell_type": "markdown",
      "source": [
        "(a) Calculate the exact p–value (two-tailed). [Hint: assuming the null hypothesis, write a program\n",
        "to find the 924 possible values of the test statistic under the assignment mechanism.]"
      ],
      "metadata": {
        "id": "D-ylepC5mQ4a"
      }
    },
    {
      "cell_type": "code",
      "source": [
        "treatment_idxs = list(combinations(range(12), 6))\n",
        "assigment_operator = np.array([[1 if idx in treatment else 0 for idx in range(12)] for treatment in treatment_idxs][::-1], dtype = int)"
      ],
      "metadata": {
        "id": "pM4OB1R5msUs"
      },
      "execution_count": null,
      "outputs": []
    },
    {
      "cell_type": "code",
      "source": [
        "treatment_scores = (assigment_operator@all)/6\n",
        "control_scores = ((1-assigment_operator)@all)/6\n",
        "test_statistic = np.round(treatment_scores - control_scores, 2)\n",
        "\n",
        "df = pd.DataFrame(assigment_operator, dtype = int, columns = ['Z'+str(i) for i in range(1, 13)] )\n",
        "df['levels'] = test_statistic\n",
        "\n",
        "df.head()"
      ],
      "metadata": {
        "colab": {
          "base_uri": "https://localhost:8080/",
          "height": 206
        },
        "id": "zbNIvvFyStJg",
        "outputId": "37e61abb-4612-43af-b102-b50812df6751"
      },
      "execution_count": null,
      "outputs": [
        {
          "output_type": "execute_result",
          "data": {
            "text/plain": [
              "   Z1  Z2  Z3  Z4  Z5  Z6  Z7  Z8  Z9  Z10  Z11  Z12  levels\n",
              "0   0   0   0   0   0   0   1   1   1    1    1    1   -2.02\n",
              "1   0   0   0   0   0   1   0   1   1    1    1    1    0.40\n",
              "2   0   0   0   0   0   1   1   0   1    1    1    1   -0.16\n",
              "3   0   0   0   0   0   1   1   1   0    1    1    1   -0.31\n",
              "4   0   0   0   0   0   1   1   1   1    0    1    1   -2.03"
            ],
            "text/html": [
              "\n",
              "  <div id=\"df-15d70ce1-3a35-43a3-b975-9dc73ae96e4b\">\n",
              "    <div class=\"colab-df-container\">\n",
              "      <div>\n",
              "<style scoped>\n",
              "    .dataframe tbody tr th:only-of-type {\n",
              "        vertical-align: middle;\n",
              "    }\n",
              "\n",
              "    .dataframe tbody tr th {\n",
              "        vertical-align: top;\n",
              "    }\n",
              "\n",
              "    .dataframe thead th {\n",
              "        text-align: right;\n",
              "    }\n",
              "</style>\n",
              "<table border=\"1\" class=\"dataframe\">\n",
              "  <thead>\n",
              "    <tr style=\"text-align: right;\">\n",
              "      <th></th>\n",
              "      <th>Z1</th>\n",
              "      <th>Z2</th>\n",
              "      <th>Z3</th>\n",
              "      <th>Z4</th>\n",
              "      <th>Z5</th>\n",
              "      <th>Z6</th>\n",
              "      <th>Z7</th>\n",
              "      <th>Z8</th>\n",
              "      <th>Z9</th>\n",
              "      <th>Z10</th>\n",
              "      <th>Z11</th>\n",
              "      <th>Z12</th>\n",
              "      <th>levels</th>\n",
              "    </tr>\n",
              "  </thead>\n",
              "  <tbody>\n",
              "    <tr>\n",
              "      <th>0</th>\n",
              "      <td>0</td>\n",
              "      <td>0</td>\n",
              "      <td>0</td>\n",
              "      <td>0</td>\n",
              "      <td>0</td>\n",
              "      <td>0</td>\n",
              "      <td>1</td>\n",
              "      <td>1</td>\n",
              "      <td>1</td>\n",
              "      <td>1</td>\n",
              "      <td>1</td>\n",
              "      <td>1</td>\n",
              "      <td>-2.02</td>\n",
              "    </tr>\n",
              "    <tr>\n",
              "      <th>1</th>\n",
              "      <td>0</td>\n",
              "      <td>0</td>\n",
              "      <td>0</td>\n",
              "      <td>0</td>\n",
              "      <td>0</td>\n",
              "      <td>1</td>\n",
              "      <td>0</td>\n",
              "      <td>1</td>\n",
              "      <td>1</td>\n",
              "      <td>1</td>\n",
              "      <td>1</td>\n",
              "      <td>1</td>\n",
              "      <td>0.40</td>\n",
              "    </tr>\n",
              "    <tr>\n",
              "      <th>2</th>\n",
              "      <td>0</td>\n",
              "      <td>0</td>\n",
              "      <td>0</td>\n",
              "      <td>0</td>\n",
              "      <td>0</td>\n",
              "      <td>1</td>\n",
              "      <td>1</td>\n",
              "      <td>0</td>\n",
              "      <td>1</td>\n",
              "      <td>1</td>\n",
              "      <td>1</td>\n",
              "      <td>1</td>\n",
              "      <td>-0.16</td>\n",
              "    </tr>\n",
              "    <tr>\n",
              "      <th>3</th>\n",
              "      <td>0</td>\n",
              "      <td>0</td>\n",
              "      <td>0</td>\n",
              "      <td>0</td>\n",
              "      <td>0</td>\n",
              "      <td>1</td>\n",
              "      <td>1</td>\n",
              "      <td>1</td>\n",
              "      <td>0</td>\n",
              "      <td>1</td>\n",
              "      <td>1</td>\n",
              "      <td>1</td>\n",
              "      <td>-0.31</td>\n",
              "    </tr>\n",
              "    <tr>\n",
              "      <th>4</th>\n",
              "      <td>0</td>\n",
              "      <td>0</td>\n",
              "      <td>0</td>\n",
              "      <td>0</td>\n",
              "      <td>0</td>\n",
              "      <td>1</td>\n",
              "      <td>1</td>\n",
              "      <td>1</td>\n",
              "      <td>1</td>\n",
              "      <td>0</td>\n",
              "      <td>1</td>\n",
              "      <td>1</td>\n",
              "      <td>-2.03</td>\n",
              "    </tr>\n",
              "  </tbody>\n",
              "</table>\n",
              "</div>\n",
              "      <button class=\"colab-df-convert\" onclick=\"convertToInteractive('df-15d70ce1-3a35-43a3-b975-9dc73ae96e4b')\"\n",
              "              title=\"Convert this dataframe to an interactive table.\"\n",
              "              style=\"display:none;\">\n",
              "        \n",
              "  <svg xmlns=\"http://www.w3.org/2000/svg\" height=\"24px\"viewBox=\"0 0 24 24\"\n",
              "       width=\"24px\">\n",
              "    <path d=\"M0 0h24v24H0V0z\" fill=\"none\"/>\n",
              "    <path d=\"M18.56 5.44l.94 2.06.94-2.06 2.06-.94-2.06-.94-.94-2.06-.94 2.06-2.06.94zm-11 1L8.5 8.5l.94-2.06 2.06-.94-2.06-.94L8.5 2.5l-.94 2.06-2.06.94zm10 10l.94 2.06.94-2.06 2.06-.94-2.06-.94-.94-2.06-.94 2.06-2.06.94z\"/><path d=\"M17.41 7.96l-1.37-1.37c-.4-.4-.92-.59-1.43-.59-.52 0-1.04.2-1.43.59L10.3 9.45l-7.72 7.72c-.78.78-.78 2.05 0 2.83L4 21.41c.39.39.9.59 1.41.59.51 0 1.02-.2 1.41-.59l7.78-7.78 2.81-2.81c.8-.78.8-2.07 0-2.86zM5.41 20L4 18.59l7.72-7.72 1.47 1.35L5.41 20z\"/>\n",
              "  </svg>\n",
              "      </button>\n",
              "      \n",
              "  <style>\n",
              "    .colab-df-container {\n",
              "      display:flex;\n",
              "      flex-wrap:wrap;\n",
              "      gap: 12px;\n",
              "    }\n",
              "\n",
              "    .colab-df-convert {\n",
              "      background-color: #E8F0FE;\n",
              "      border: none;\n",
              "      border-radius: 50%;\n",
              "      cursor: pointer;\n",
              "      display: none;\n",
              "      fill: #1967D2;\n",
              "      height: 32px;\n",
              "      padding: 0 0 0 0;\n",
              "      width: 32px;\n",
              "    }\n",
              "\n",
              "    .colab-df-convert:hover {\n",
              "      background-color: #E2EBFA;\n",
              "      box-shadow: 0px 1px 2px rgba(60, 64, 67, 0.3), 0px 1px 3px 1px rgba(60, 64, 67, 0.15);\n",
              "      fill: #174EA6;\n",
              "    }\n",
              "\n",
              "    [theme=dark] .colab-df-convert {\n",
              "      background-color: #3B4455;\n",
              "      fill: #D2E3FC;\n",
              "    }\n",
              "\n",
              "    [theme=dark] .colab-df-convert:hover {\n",
              "      background-color: #434B5C;\n",
              "      box-shadow: 0px 1px 3px 1px rgba(0, 0, 0, 0.15);\n",
              "      filter: drop-shadow(0px 1px 2px rgba(0, 0, 0, 0.3));\n",
              "      fill: #FFFFFF;\n",
              "    }\n",
              "  </style>\n",
              "\n",
              "      <script>\n",
              "        const buttonEl =\n",
              "          document.querySelector('#df-15d70ce1-3a35-43a3-b975-9dc73ae96e4b button.colab-df-convert');\n",
              "        buttonEl.style.display =\n",
              "          google.colab.kernel.accessAllowed ? 'block' : 'none';\n",
              "\n",
              "        async function convertToInteractive(key) {\n",
              "          const element = document.querySelector('#df-15d70ce1-3a35-43a3-b975-9dc73ae96e4b');\n",
              "          const dataTable =\n",
              "            await google.colab.kernel.invokeFunction('convertToInteractive',\n",
              "                                                     [key], {});\n",
              "          if (!dataTable) return;\n",
              "\n",
              "          const docLinkHtml = 'Like what you see? Visit the ' +\n",
              "            '<a target=\"_blank\" href=https://colab.research.google.com/notebooks/data_table.ipynb>data table notebook</a>'\n",
              "            + ' to learn more about interactive tables.';\n",
              "          element.innerHTML = '';\n",
              "          dataTable['output_type'] = 'display_data';\n",
              "          await google.colab.output.renderOutput(dataTable, element);\n",
              "          const docLink = document.createElement('div');\n",
              "          docLink.innerHTML = docLinkHtml;\n",
              "          element.appendChild(docLink);\n",
              "        }\n",
              "      </script>\n",
              "    </div>\n",
              "  </div>\n",
              "  "
            ]
          },
          "metadata": {},
          "execution_count": 19
        }
      ]
    },
    {
      "cell_type": "code",
      "source": [
        "T_obs = df.loc[0, 'levels']\n",
        "round(2*sum(df.levels<=T_obs)/len(df),2)"
      ],
      "metadata": {
        "colab": {
          "base_uri": "https://localhost:8080/"
        },
        "id": "eVfiRYkMrNA4",
        "outputId": "15be76df-271d-4f2d-fa24-6f9598d16bc9"
      },
      "execution_count": null,
      "outputs": [
        {
          "output_type": "execute_result",
          "data": {
            "text/plain": [
              "0.27"
            ]
          },
          "metadata": {},
          "execution_count": 40
        }
      ]
    },
    {
      "cell_type": "markdown",
      "source": [
        "(b) Report the p–value obtained by drawing 1, 000 times from the distribution of the statistic\n",
        "under the null hypothesis and comparing the draws with the observed statistic."
      ],
      "metadata": {
        "id": "G1B2QNMDJXB6"
      }
    },
    {
      "cell_type": "code",
      "source": [
        "treatment_idxs = np.random.randint(0, 12, size = (1000, 6))\n",
        "treatmemt_assignment = np.array([[1 if idx in treatment else 0 for idx in range(12)] for treatment in treatment_idxs][::-1], dtype = int)\n",
        "control_idxs = np.random.randint(0, 12, size = (1000, 6))\n",
        "control_assignment = np.array([[1 if idx in treatment else 0 for idx in range(12)] for treatment in control_idxs][::-1], dtype = int)"
      ],
      "metadata": {
        "id": "c49w_DxNMc5F"
      },
      "execution_count": null,
      "outputs": []
    },
    {
      "cell_type": "code",
      "source": [
        "treatment_scores = (treatmemt_assignment@all)/6\n",
        "control_scores = (control_assignment@all)/6\n",
        "test_statistic = np.round(treatment_scores - control_scores, 2)\n",
        "\n",
        "df = pd.DataFrame(treatmemt_assignment, dtype = int, columns = ['Z'+str(i) for i in range(1, 13)] )\n",
        "df['levels'] = test_statistic\n",
        "test_statistic.shape\n",
        "df.head()"
      ],
      "metadata": {
        "colab": {
          "base_uri": "https://localhost:8080/",
          "height": 206
        },
        "id": "m6qKvyjBMHyj",
        "outputId": "71ffcd45-8ecb-4498-f528-02ce70ba81cc"
      },
      "execution_count": null,
      "outputs": [
        {
          "output_type": "execute_result",
          "data": {
            "text/plain": [
              "   Z1  Z2  Z3  Z4  Z5  Z6  Z7  Z8  Z9  Z10  Z11  Z12  levels\n",
              "0   1   0   0   0   1   0   0   0   0    0    1    1   -0.37\n",
              "1   0   0   1   0   0   1   0   1   1    1    0    0    2.60\n",
              "2   1   0   0   0   0   1   1   0   0    0    1    1    0.38\n",
              "3   0   1   1   0   0   0   0   0   1    0    1    1    2.83\n",
              "4   1   1   0   0   1   0   0   0   1    0    0    0   -2.40"
            ],
            "text/html": [
              "\n",
              "  <div id=\"df-95a9be78-a4fe-4f35-9c34-85cd2aba0315\">\n",
              "    <div class=\"colab-df-container\">\n",
              "      <div>\n",
              "<style scoped>\n",
              "    .dataframe tbody tr th:only-of-type {\n",
              "        vertical-align: middle;\n",
              "    }\n",
              "\n",
              "    .dataframe tbody tr th {\n",
              "        vertical-align: top;\n",
              "    }\n",
              "\n",
              "    .dataframe thead th {\n",
              "        text-align: right;\n",
              "    }\n",
              "</style>\n",
              "<table border=\"1\" class=\"dataframe\">\n",
              "  <thead>\n",
              "    <tr style=\"text-align: right;\">\n",
              "      <th></th>\n",
              "      <th>Z1</th>\n",
              "      <th>Z2</th>\n",
              "      <th>Z3</th>\n",
              "      <th>Z4</th>\n",
              "      <th>Z5</th>\n",
              "      <th>Z6</th>\n",
              "      <th>Z7</th>\n",
              "      <th>Z8</th>\n",
              "      <th>Z9</th>\n",
              "      <th>Z10</th>\n",
              "      <th>Z11</th>\n",
              "      <th>Z12</th>\n",
              "      <th>levels</th>\n",
              "    </tr>\n",
              "  </thead>\n",
              "  <tbody>\n",
              "    <tr>\n",
              "      <th>0</th>\n",
              "      <td>1</td>\n",
              "      <td>0</td>\n",
              "      <td>0</td>\n",
              "      <td>0</td>\n",
              "      <td>1</td>\n",
              "      <td>0</td>\n",
              "      <td>0</td>\n",
              "      <td>0</td>\n",
              "      <td>0</td>\n",
              "      <td>0</td>\n",
              "      <td>1</td>\n",
              "      <td>1</td>\n",
              "      <td>-0.37</td>\n",
              "    </tr>\n",
              "    <tr>\n",
              "      <th>1</th>\n",
              "      <td>0</td>\n",
              "      <td>0</td>\n",
              "      <td>1</td>\n",
              "      <td>0</td>\n",
              "      <td>0</td>\n",
              "      <td>1</td>\n",
              "      <td>0</td>\n",
              "      <td>1</td>\n",
              "      <td>1</td>\n",
              "      <td>1</td>\n",
              "      <td>0</td>\n",
              "      <td>0</td>\n",
              "      <td>2.60</td>\n",
              "    </tr>\n",
              "    <tr>\n",
              "      <th>2</th>\n",
              "      <td>1</td>\n",
              "      <td>0</td>\n",
              "      <td>0</td>\n",
              "      <td>0</td>\n",
              "      <td>0</td>\n",
              "      <td>1</td>\n",
              "      <td>1</td>\n",
              "      <td>0</td>\n",
              "      <td>0</td>\n",
              "      <td>0</td>\n",
              "      <td>1</td>\n",
              "      <td>1</td>\n",
              "      <td>0.38</td>\n",
              "    </tr>\n",
              "    <tr>\n",
              "      <th>3</th>\n",
              "      <td>0</td>\n",
              "      <td>1</td>\n",
              "      <td>1</td>\n",
              "      <td>0</td>\n",
              "      <td>0</td>\n",
              "      <td>0</td>\n",
              "      <td>0</td>\n",
              "      <td>0</td>\n",
              "      <td>1</td>\n",
              "      <td>0</td>\n",
              "      <td>1</td>\n",
              "      <td>1</td>\n",
              "      <td>2.83</td>\n",
              "    </tr>\n",
              "    <tr>\n",
              "      <th>4</th>\n",
              "      <td>1</td>\n",
              "      <td>1</td>\n",
              "      <td>0</td>\n",
              "      <td>0</td>\n",
              "      <td>1</td>\n",
              "      <td>0</td>\n",
              "      <td>0</td>\n",
              "      <td>0</td>\n",
              "      <td>1</td>\n",
              "      <td>0</td>\n",
              "      <td>0</td>\n",
              "      <td>0</td>\n",
              "      <td>-2.40</td>\n",
              "    </tr>\n",
              "  </tbody>\n",
              "</table>\n",
              "</div>\n",
              "      <button class=\"colab-df-convert\" onclick=\"convertToInteractive('df-95a9be78-a4fe-4f35-9c34-85cd2aba0315')\"\n",
              "              title=\"Convert this dataframe to an interactive table.\"\n",
              "              style=\"display:none;\">\n",
              "        \n",
              "  <svg xmlns=\"http://www.w3.org/2000/svg\" height=\"24px\"viewBox=\"0 0 24 24\"\n",
              "       width=\"24px\">\n",
              "    <path d=\"M0 0h24v24H0V0z\" fill=\"none\"/>\n",
              "    <path d=\"M18.56 5.44l.94 2.06.94-2.06 2.06-.94-2.06-.94-.94-2.06-.94 2.06-2.06.94zm-11 1L8.5 8.5l.94-2.06 2.06-.94-2.06-.94L8.5 2.5l-.94 2.06-2.06.94zm10 10l.94 2.06.94-2.06 2.06-.94-2.06-.94-.94-2.06-.94 2.06-2.06.94z\"/><path d=\"M17.41 7.96l-1.37-1.37c-.4-.4-.92-.59-1.43-.59-.52 0-1.04.2-1.43.59L10.3 9.45l-7.72 7.72c-.78.78-.78 2.05 0 2.83L4 21.41c.39.39.9.59 1.41.59.51 0 1.02-.2 1.41-.59l7.78-7.78 2.81-2.81c.8-.78.8-2.07 0-2.86zM5.41 20L4 18.59l7.72-7.72 1.47 1.35L5.41 20z\"/>\n",
              "  </svg>\n",
              "      </button>\n",
              "      \n",
              "  <style>\n",
              "    .colab-df-container {\n",
              "      display:flex;\n",
              "      flex-wrap:wrap;\n",
              "      gap: 12px;\n",
              "    }\n",
              "\n",
              "    .colab-df-convert {\n",
              "      background-color: #E8F0FE;\n",
              "      border: none;\n",
              "      border-radius: 50%;\n",
              "      cursor: pointer;\n",
              "      display: none;\n",
              "      fill: #1967D2;\n",
              "      height: 32px;\n",
              "      padding: 0 0 0 0;\n",
              "      width: 32px;\n",
              "    }\n",
              "\n",
              "    .colab-df-convert:hover {\n",
              "      background-color: #E2EBFA;\n",
              "      box-shadow: 0px 1px 2px rgba(60, 64, 67, 0.3), 0px 1px 3px 1px rgba(60, 64, 67, 0.15);\n",
              "      fill: #174EA6;\n",
              "    }\n",
              "\n",
              "    [theme=dark] .colab-df-convert {\n",
              "      background-color: #3B4455;\n",
              "      fill: #D2E3FC;\n",
              "    }\n",
              "\n",
              "    [theme=dark] .colab-df-convert:hover {\n",
              "      background-color: #434B5C;\n",
              "      box-shadow: 0px 1px 3px 1px rgba(0, 0, 0, 0.15);\n",
              "      filter: drop-shadow(0px 1px 2px rgba(0, 0, 0, 0.3));\n",
              "      fill: #FFFFFF;\n",
              "    }\n",
              "  </style>\n",
              "\n",
              "      <script>\n",
              "        const buttonEl =\n",
              "          document.querySelector('#df-95a9be78-a4fe-4f35-9c34-85cd2aba0315 button.colab-df-convert');\n",
              "        buttonEl.style.display =\n",
              "          google.colab.kernel.accessAllowed ? 'block' : 'none';\n",
              "\n",
              "        async function convertToInteractive(key) {\n",
              "          const element = document.querySelector('#df-95a9be78-a4fe-4f35-9c34-85cd2aba0315');\n",
              "          const dataTable =\n",
              "            await google.colab.kernel.invokeFunction('convertToInteractive',\n",
              "                                                     [key], {});\n",
              "          if (!dataTable) return;\n",
              "\n",
              "          const docLinkHtml = 'Like what you see? Visit the ' +\n",
              "            '<a target=\"_blank\" href=https://colab.research.google.com/notebooks/data_table.ipynb>data table notebook</a>'\n",
              "            + ' to learn more about interactive tables.';\n",
              "          element.innerHTML = '';\n",
              "          dataTable['output_type'] = 'display_data';\n",
              "          await google.colab.output.renderOutput(dataTable, element);\n",
              "          const docLink = document.createElement('div');\n",
              "          docLink.innerHTML = docLinkHtml;\n",
              "          element.appendChild(docLink);\n",
              "        }\n",
              "      </script>\n",
              "    </div>\n",
              "  </div>\n",
              "  "
            ]
          },
          "metadata": {},
          "execution_count": 47
        }
      ]
    },
    {
      "cell_type": "code",
      "source": [
        "round(2*sum(df.levels<=T_obs)/len(df),2)"
      ],
      "metadata": {
        "colab": {
          "base_uri": "https://localhost:8080/"
        },
        "id": "QALPFHqvMuid",
        "outputId": "72f7ec03-6026-4a48-bdd4-3b2e65288136"
      },
      "execution_count": null,
      "outputs": [
        {
          "output_type": "execute_result",
          "data": {
            "text/plain": [
              "0.27"
            ]
          },
          "metadata": {},
          "execution_count": 48
        }
      ]
    },
    {
      "cell_type": "markdown",
      "source": [
        "(c)  Report the p–value by using a t-test."
      ],
      "metadata": {
        "id": "61rdole3M0rk"
      }
    },
    {
      "cell_type": "code",
      "source": [
        "np.var(control)/np.var(treatment)"
      ],
      "metadata": {
        "colab": {
          "base_uri": "https://localhost:8080/"
        },
        "id": "2CvEfAAuMzdr",
        "outputId": "24b9764c-c435-4d59-a549-0faa64097c5a"
      },
      "execution_count": null,
      "outputs": [
        {
          "output_type": "execute_result",
          "data": {
            "text/plain": [
              "1.014428019594967"
            ]
          },
          "metadata": {},
          "execution_count": 35
        }
      ]
    },
    {
      "cell_type": "code",
      "source": [
        "stats.ttest_ind(a=control, b=treatment, equal_var=True)"
      ],
      "metadata": {
        "colab": {
          "base_uri": "https://localhost:8080/"
        },
        "id": "cQ8G2630NorQ",
        "outputId": "2809f168-8570-47de-9798-be7c6e22fe4a"
      },
      "execution_count": null,
      "outputs": [
        {
          "output_type": "execute_result",
          "data": {
            "text/plain": [
              "Ttest_indResult(statistic=1.0089695865082862, pvalue=0.33677915183055496)"
            ]
          },
          "metadata": {},
          "execution_count": 36
        }
      ]
    },
    {
      "cell_type": "markdown",
      "source": [
        "Thus, we can assume the variance is equal. "
      ],
      "metadata": {
        "id": "nPS22obdNugS"
      }
    },
    {
      "cell_type": "markdown",
      "source": [
        "(d) The potential outcome framework has three key components: (i) potential outcomes, (ii) assignment mechanism, (iii) a (probabilistic) model for the potential outcomes. In the above\n",
        "questions, (a) returns an exact p-value, both (b) and (c) are making some approximations of (a). So in terms of what component of the potential outcome framework that (b) approximates\n",
        "(a) and (c) approximates (a)?"
      ],
      "metadata": {
        "id": "3NOaQDICN8E2"
      }
    },
    {
      "cell_type": "markdown",
      "source": [
        "**ANSWER**: \n",
        "(b) approximates (a) and (c) approximates (a) in terms of the assignment mechanism. "
      ],
      "metadata": {
        "id": "2PvnSVTzTUrf"
      }
    },
    {
      "cell_type": "markdown",
      "source": [
        "2. Now assume that prior to the experiment, researchers used a characteristic X (e.g., baseline severity measures) of the children to match them in 6 pairs (the 6 pairs being the 6 rows of Table 1),\n",
        "and then they assigned treatment at random within each pair. Answer 1(a)-1(d) for the pairwise\n",
        "assignment (For (c) use a paired t-test)"
      ],
      "metadata": {
        "id": "_rZcr7c2OFjr"
      }
    },
    {
      "cell_type": "code",
      "source": [
        "pairs = [(i, i+6) for i in range(6)]"
      ],
      "metadata": {
        "id": "b1C7n85pV7jA"
      },
      "execution_count": null,
      "outputs": []
    },
    {
      "cell_type": "markdown",
      "source": [
        "a. Calculate the exact p–value (two-tailed).\n"
      ],
      "metadata": {
        "id": "qOL-siMOTMoK"
      }
    },
    {
      "cell_type": "code",
      "source": [
        "treatment_idxs = []\n",
        "def solve(pairs, idxs = []):\n",
        "  if len(idxs) == 6:\n",
        "    treatment_idxs.append(idxs)\n",
        "    return \n",
        "  solve(pairs[1:], idxs + [pairs[0][0]])\n",
        "  solve(pairs[1:], idxs + [pairs[0][1]])\n",
        "\n",
        "solve(pairs) "
      ],
      "metadata": {
        "id": "kbDG772BN2af"
      },
      "execution_count": null,
      "outputs": []
    },
    {
      "cell_type": "code",
      "source": [
        "assigment_operator = np.array([[1 if idx in treatment else 0 for idx in range(12)][::-1] for treatment in treatment_idxs], dtype = int)"
      ],
      "metadata": {
        "id": "OkyNy_JSSSdp"
      },
      "execution_count": null,
      "outputs": []
    },
    {
      "cell_type": "code",
      "source": [
        "treatment_scores = (assigment_operator@all)/6\n",
        "control_scores = ((1-assigment_operator)@all)/6\n",
        "test_statistic = np.round(treatment_scores - control_scores, 2)\n",
        "\n",
        "df = pd.DataFrame(assigment_operator, dtype = int, columns = ['Z'+str(i) for i in range(1, 13)] )\n",
        "df['levels'] = test_statistic\n",
        "\n",
        "df.head()"
      ],
      "metadata": {
        "colab": {
          "base_uri": "https://localhost:8080/",
          "height": 206
        },
        "id": "4KQj910ERdvl",
        "outputId": "478fc169-1b20-4db0-c4fd-645cd7ea03a3"
      },
      "execution_count": null,
      "outputs": [
        {
          "output_type": "execute_result",
          "data": {
            "text/plain": [
              "   Z1  Z2  Z3  Z4  Z5  Z6  Z7  Z8  Z9  Z10  Z11  Z12  levels\n",
              "0   0   0   0   0   0   0   1   1   1    1    1    1   -2.02\n",
              "1   1   0   0   0   0   0   0   1   1    1    1    1    0.83\n",
              "2   0   1   0   0   0   0   1   0   1    1    1    1   -2.10\n",
              "3   1   1   0   0   0   0   0   0   1    1    1    1    0.76\n",
              "4   0   0   1   0   0   0   1   1   0    1    1    1    0.23"
            ],
            "text/html": [
              "\n",
              "  <div id=\"df-b6f93ad9-cbb4-4777-aaa6-c1152ca316da\">\n",
              "    <div class=\"colab-df-container\">\n",
              "      <div>\n",
              "<style scoped>\n",
              "    .dataframe tbody tr th:only-of-type {\n",
              "        vertical-align: middle;\n",
              "    }\n",
              "\n",
              "    .dataframe tbody tr th {\n",
              "        vertical-align: top;\n",
              "    }\n",
              "\n",
              "    .dataframe thead th {\n",
              "        text-align: right;\n",
              "    }\n",
              "</style>\n",
              "<table border=\"1\" class=\"dataframe\">\n",
              "  <thead>\n",
              "    <tr style=\"text-align: right;\">\n",
              "      <th></th>\n",
              "      <th>Z1</th>\n",
              "      <th>Z2</th>\n",
              "      <th>Z3</th>\n",
              "      <th>Z4</th>\n",
              "      <th>Z5</th>\n",
              "      <th>Z6</th>\n",
              "      <th>Z7</th>\n",
              "      <th>Z8</th>\n",
              "      <th>Z9</th>\n",
              "      <th>Z10</th>\n",
              "      <th>Z11</th>\n",
              "      <th>Z12</th>\n",
              "      <th>levels</th>\n",
              "    </tr>\n",
              "  </thead>\n",
              "  <tbody>\n",
              "    <tr>\n",
              "      <th>0</th>\n",
              "      <td>0</td>\n",
              "      <td>0</td>\n",
              "      <td>0</td>\n",
              "      <td>0</td>\n",
              "      <td>0</td>\n",
              "      <td>0</td>\n",
              "      <td>1</td>\n",
              "      <td>1</td>\n",
              "      <td>1</td>\n",
              "      <td>1</td>\n",
              "      <td>1</td>\n",
              "      <td>1</td>\n",
              "      <td>-2.02</td>\n",
              "    </tr>\n",
              "    <tr>\n",
              "      <th>1</th>\n",
              "      <td>1</td>\n",
              "      <td>0</td>\n",
              "      <td>0</td>\n",
              "      <td>0</td>\n",
              "      <td>0</td>\n",
              "      <td>0</td>\n",
              "      <td>0</td>\n",
              "      <td>1</td>\n",
              "      <td>1</td>\n",
              "      <td>1</td>\n",
              "      <td>1</td>\n",
              "      <td>1</td>\n",
              "      <td>0.83</td>\n",
              "    </tr>\n",
              "    <tr>\n",
              "      <th>2</th>\n",
              "      <td>0</td>\n",
              "      <td>1</td>\n",
              "      <td>0</td>\n",
              "      <td>0</td>\n",
              "      <td>0</td>\n",
              "      <td>0</td>\n",
              "      <td>1</td>\n",
              "      <td>0</td>\n",
              "      <td>1</td>\n",
              "      <td>1</td>\n",
              "      <td>1</td>\n",
              "      <td>1</td>\n",
              "      <td>-2.10</td>\n",
              "    </tr>\n",
              "    <tr>\n",
              "      <th>3</th>\n",
              "      <td>1</td>\n",
              "      <td>1</td>\n",
              "      <td>0</td>\n",
              "      <td>0</td>\n",
              "      <td>0</td>\n",
              "      <td>0</td>\n",
              "      <td>0</td>\n",
              "      <td>0</td>\n",
              "      <td>1</td>\n",
              "      <td>1</td>\n",
              "      <td>1</td>\n",
              "      <td>1</td>\n",
              "      <td>0.76</td>\n",
              "    </tr>\n",
              "    <tr>\n",
              "      <th>4</th>\n",
              "      <td>0</td>\n",
              "      <td>0</td>\n",
              "      <td>1</td>\n",
              "      <td>0</td>\n",
              "      <td>0</td>\n",
              "      <td>0</td>\n",
              "      <td>1</td>\n",
              "      <td>1</td>\n",
              "      <td>0</td>\n",
              "      <td>1</td>\n",
              "      <td>1</td>\n",
              "      <td>1</td>\n",
              "      <td>0.23</td>\n",
              "    </tr>\n",
              "  </tbody>\n",
              "</table>\n",
              "</div>\n",
              "      <button class=\"colab-df-convert\" onclick=\"convertToInteractive('df-b6f93ad9-cbb4-4777-aaa6-c1152ca316da')\"\n",
              "              title=\"Convert this dataframe to an interactive table.\"\n",
              "              style=\"display:none;\">\n",
              "        \n",
              "  <svg xmlns=\"http://www.w3.org/2000/svg\" height=\"24px\"viewBox=\"0 0 24 24\"\n",
              "       width=\"24px\">\n",
              "    <path d=\"M0 0h24v24H0V0z\" fill=\"none\"/>\n",
              "    <path d=\"M18.56 5.44l.94 2.06.94-2.06 2.06-.94-2.06-.94-.94-2.06-.94 2.06-2.06.94zm-11 1L8.5 8.5l.94-2.06 2.06-.94-2.06-.94L8.5 2.5l-.94 2.06-2.06.94zm10 10l.94 2.06.94-2.06 2.06-.94-2.06-.94-.94-2.06-.94 2.06-2.06.94z\"/><path d=\"M17.41 7.96l-1.37-1.37c-.4-.4-.92-.59-1.43-.59-.52 0-1.04.2-1.43.59L10.3 9.45l-7.72 7.72c-.78.78-.78 2.05 0 2.83L4 21.41c.39.39.9.59 1.41.59.51 0 1.02-.2 1.41-.59l7.78-7.78 2.81-2.81c.8-.78.8-2.07 0-2.86zM5.41 20L4 18.59l7.72-7.72 1.47 1.35L5.41 20z\"/>\n",
              "  </svg>\n",
              "      </button>\n",
              "      \n",
              "  <style>\n",
              "    .colab-df-container {\n",
              "      display:flex;\n",
              "      flex-wrap:wrap;\n",
              "      gap: 12px;\n",
              "    }\n",
              "\n",
              "    .colab-df-convert {\n",
              "      background-color: #E8F0FE;\n",
              "      border: none;\n",
              "      border-radius: 50%;\n",
              "      cursor: pointer;\n",
              "      display: none;\n",
              "      fill: #1967D2;\n",
              "      height: 32px;\n",
              "      padding: 0 0 0 0;\n",
              "      width: 32px;\n",
              "    }\n",
              "\n",
              "    .colab-df-convert:hover {\n",
              "      background-color: #E2EBFA;\n",
              "      box-shadow: 0px 1px 2px rgba(60, 64, 67, 0.3), 0px 1px 3px 1px rgba(60, 64, 67, 0.15);\n",
              "      fill: #174EA6;\n",
              "    }\n",
              "\n",
              "    [theme=dark] .colab-df-convert {\n",
              "      background-color: #3B4455;\n",
              "      fill: #D2E3FC;\n",
              "    }\n",
              "\n",
              "    [theme=dark] .colab-df-convert:hover {\n",
              "      background-color: #434B5C;\n",
              "      box-shadow: 0px 1px 3px 1px rgba(0, 0, 0, 0.15);\n",
              "      filter: drop-shadow(0px 1px 2px rgba(0, 0, 0, 0.3));\n",
              "      fill: #FFFFFF;\n",
              "    }\n",
              "  </style>\n",
              "\n",
              "      <script>\n",
              "        const buttonEl =\n",
              "          document.querySelector('#df-b6f93ad9-cbb4-4777-aaa6-c1152ca316da button.colab-df-convert');\n",
              "        buttonEl.style.display =\n",
              "          google.colab.kernel.accessAllowed ? 'block' : 'none';\n",
              "\n",
              "        async function convertToInteractive(key) {\n",
              "          const element = document.querySelector('#df-b6f93ad9-cbb4-4777-aaa6-c1152ca316da');\n",
              "          const dataTable =\n",
              "            await google.colab.kernel.invokeFunction('convertToInteractive',\n",
              "                                                     [key], {});\n",
              "          if (!dataTable) return;\n",
              "\n",
              "          const docLinkHtml = 'Like what you see? Visit the ' +\n",
              "            '<a target=\"_blank\" href=https://colab.research.google.com/notebooks/data_table.ipynb>data table notebook</a>'\n",
              "            + ' to learn more about interactive tables.';\n",
              "          element.innerHTML = '';\n",
              "          dataTable['output_type'] = 'display_data';\n",
              "          await google.colab.output.renderOutput(dataTable, element);\n",
              "          const docLink = document.createElement('div');\n",
              "          docLink.innerHTML = docLinkHtml;\n",
              "          element.appendChild(docLink);\n",
              "        }\n",
              "      </script>\n",
              "    </div>\n",
              "  </div>\n",
              "  "
            ]
          },
          "metadata": {},
          "execution_count": 72
        }
      ]
    },
    {
      "cell_type": "code",
      "source": [
        "T_obs = df.loc[0, 'levels']\n",
        "round(2*sum(df.levels<=T_obs)/len(df),2)"
      ],
      "metadata": {
        "colab": {
          "base_uri": "https://localhost:8080/"
        },
        "id": "5LZtnWzZReqh",
        "outputId": "1c9aa2ff-6cea-4f69-fdc6-24537fc4515f"
      },
      "execution_count": null,
      "outputs": [
        {
          "output_type": "execute_result",
          "data": {
            "text/plain": [
              "0.38"
            ]
          },
          "metadata": {},
          "execution_count": 73
        }
      ]
    },
    {
      "cell_type": "markdown",
      "source": [
        "(b) Report the p–value obtained by drawing 1, 000 times from the distribution of the statistic\n",
        "under the null hypothesis and comparing the draws with the observed statistic.\n"
      ],
      "metadata": {
        "id": "VhygpgJOUijD"
      }
    },
    {
      "cell_type": "code",
      "source": [
        "repeated_treatment_idxs = [treatment_idxs[random.randint(0, 63)] for _ in range(1000)]\n",
        "assigment_operator = np.array([[1 if idx in treatment else 0 for idx in range(12)] for treatment in repeated_treatment_idxs][::-1], dtype = int)"
      ],
      "metadata": {
        "id": "wPLbqtszTI_b"
      },
      "execution_count": null,
      "outputs": []
    },
    {
      "cell_type": "code",
      "source": [
        "treatment_scores = (assigment_operator@all)/6\n",
        "control_scores = ((1-assigment_operator)@all)/6\n",
        "test_statistic = np.round(treatment_scores - control_scores, 2)\n",
        "\n",
        "df = pd.DataFrame(assigment_operator, dtype = int, columns = ['Z'+str(i) for i in range(1, 13)] )\n",
        "df['levels'] = test_statistic\n",
        "\n",
        "df.head()"
      ],
      "metadata": {
        "colab": {
          "base_uri": "https://localhost:8080/",
          "height": 206
        },
        "id": "15veDNPyzLzg",
        "outputId": "679b84bb-5275-4b45-8d5e-85a6e985eb94"
      },
      "execution_count": null,
      "outputs": [
        {
          "output_type": "execute_result",
          "data": {
            "text/plain": [
              "   Z1  Z2  Z3  Z4  Z5  Z6  Z7  Z8  Z9  Z10  Z11  Z12  levels\n",
              "0   1   1   0   1   1   0   0   0   1    0    0    1   -0.12\n",
              "1   1   0   1   1   0   0   0   1   0    0    1    1    3.83\n",
              "2   1   0   0   1   0   1   0   1   1    0    1    0    1.48\n",
              "3   0   1   0   1   0   1   1   0   1    0    1    0   -1.46\n",
              "4   0   0   0   1   1   1   1   1   1    0    0    0   -3.00"
            ],
            "text/html": [
              "\n",
              "  <div id=\"df-6515d4d0-e517-4897-b477-09f560c0ea32\">\n",
              "    <div class=\"colab-df-container\">\n",
              "      <div>\n",
              "<style scoped>\n",
              "    .dataframe tbody tr th:only-of-type {\n",
              "        vertical-align: middle;\n",
              "    }\n",
              "\n",
              "    .dataframe tbody tr th {\n",
              "        vertical-align: top;\n",
              "    }\n",
              "\n",
              "    .dataframe thead th {\n",
              "        text-align: right;\n",
              "    }\n",
              "</style>\n",
              "<table border=\"1\" class=\"dataframe\">\n",
              "  <thead>\n",
              "    <tr style=\"text-align: right;\">\n",
              "      <th></th>\n",
              "      <th>Z1</th>\n",
              "      <th>Z2</th>\n",
              "      <th>Z3</th>\n",
              "      <th>Z4</th>\n",
              "      <th>Z5</th>\n",
              "      <th>Z6</th>\n",
              "      <th>Z7</th>\n",
              "      <th>Z8</th>\n",
              "      <th>Z9</th>\n",
              "      <th>Z10</th>\n",
              "      <th>Z11</th>\n",
              "      <th>Z12</th>\n",
              "      <th>levels</th>\n",
              "    </tr>\n",
              "  </thead>\n",
              "  <tbody>\n",
              "    <tr>\n",
              "      <th>0</th>\n",
              "      <td>1</td>\n",
              "      <td>1</td>\n",
              "      <td>0</td>\n",
              "      <td>1</td>\n",
              "      <td>1</td>\n",
              "      <td>0</td>\n",
              "      <td>0</td>\n",
              "      <td>0</td>\n",
              "      <td>1</td>\n",
              "      <td>0</td>\n",
              "      <td>0</td>\n",
              "      <td>1</td>\n",
              "      <td>-0.12</td>\n",
              "    </tr>\n",
              "    <tr>\n",
              "      <th>1</th>\n",
              "      <td>1</td>\n",
              "      <td>0</td>\n",
              "      <td>1</td>\n",
              "      <td>1</td>\n",
              "      <td>0</td>\n",
              "      <td>0</td>\n",
              "      <td>0</td>\n",
              "      <td>1</td>\n",
              "      <td>0</td>\n",
              "      <td>0</td>\n",
              "      <td>1</td>\n",
              "      <td>1</td>\n",
              "      <td>3.83</td>\n",
              "    </tr>\n",
              "    <tr>\n",
              "      <th>2</th>\n",
              "      <td>1</td>\n",
              "      <td>0</td>\n",
              "      <td>0</td>\n",
              "      <td>1</td>\n",
              "      <td>0</td>\n",
              "      <td>1</td>\n",
              "      <td>0</td>\n",
              "      <td>1</td>\n",
              "      <td>1</td>\n",
              "      <td>0</td>\n",
              "      <td>1</td>\n",
              "      <td>0</td>\n",
              "      <td>1.48</td>\n",
              "    </tr>\n",
              "    <tr>\n",
              "      <th>3</th>\n",
              "      <td>0</td>\n",
              "      <td>1</td>\n",
              "      <td>0</td>\n",
              "      <td>1</td>\n",
              "      <td>0</td>\n",
              "      <td>1</td>\n",
              "      <td>1</td>\n",
              "      <td>0</td>\n",
              "      <td>1</td>\n",
              "      <td>0</td>\n",
              "      <td>1</td>\n",
              "      <td>0</td>\n",
              "      <td>-1.46</td>\n",
              "    </tr>\n",
              "    <tr>\n",
              "      <th>4</th>\n",
              "      <td>0</td>\n",
              "      <td>0</td>\n",
              "      <td>0</td>\n",
              "      <td>1</td>\n",
              "      <td>1</td>\n",
              "      <td>1</td>\n",
              "      <td>1</td>\n",
              "      <td>1</td>\n",
              "      <td>1</td>\n",
              "      <td>0</td>\n",
              "      <td>0</td>\n",
              "      <td>0</td>\n",
              "      <td>-3.00</td>\n",
              "    </tr>\n",
              "  </tbody>\n",
              "</table>\n",
              "</div>\n",
              "      <button class=\"colab-df-convert\" onclick=\"convertToInteractive('df-6515d4d0-e517-4897-b477-09f560c0ea32')\"\n",
              "              title=\"Convert this dataframe to an interactive table.\"\n",
              "              style=\"display:none;\">\n",
              "        \n",
              "  <svg xmlns=\"http://www.w3.org/2000/svg\" height=\"24px\"viewBox=\"0 0 24 24\"\n",
              "       width=\"24px\">\n",
              "    <path d=\"M0 0h24v24H0V0z\" fill=\"none\"/>\n",
              "    <path d=\"M18.56 5.44l.94 2.06.94-2.06 2.06-.94-2.06-.94-.94-2.06-.94 2.06-2.06.94zm-11 1L8.5 8.5l.94-2.06 2.06-.94-2.06-.94L8.5 2.5l-.94 2.06-2.06.94zm10 10l.94 2.06.94-2.06 2.06-.94-2.06-.94-.94-2.06-.94 2.06-2.06.94z\"/><path d=\"M17.41 7.96l-1.37-1.37c-.4-.4-.92-.59-1.43-.59-.52 0-1.04.2-1.43.59L10.3 9.45l-7.72 7.72c-.78.78-.78 2.05 0 2.83L4 21.41c.39.39.9.59 1.41.59.51 0 1.02-.2 1.41-.59l7.78-7.78 2.81-2.81c.8-.78.8-2.07 0-2.86zM5.41 20L4 18.59l7.72-7.72 1.47 1.35L5.41 20z\"/>\n",
              "  </svg>\n",
              "      </button>\n",
              "      \n",
              "  <style>\n",
              "    .colab-df-container {\n",
              "      display:flex;\n",
              "      flex-wrap:wrap;\n",
              "      gap: 12px;\n",
              "    }\n",
              "\n",
              "    .colab-df-convert {\n",
              "      background-color: #E8F0FE;\n",
              "      border: none;\n",
              "      border-radius: 50%;\n",
              "      cursor: pointer;\n",
              "      display: none;\n",
              "      fill: #1967D2;\n",
              "      height: 32px;\n",
              "      padding: 0 0 0 0;\n",
              "      width: 32px;\n",
              "    }\n",
              "\n",
              "    .colab-df-convert:hover {\n",
              "      background-color: #E2EBFA;\n",
              "      box-shadow: 0px 1px 2px rgba(60, 64, 67, 0.3), 0px 1px 3px 1px rgba(60, 64, 67, 0.15);\n",
              "      fill: #174EA6;\n",
              "    }\n",
              "\n",
              "    [theme=dark] .colab-df-convert {\n",
              "      background-color: #3B4455;\n",
              "      fill: #D2E3FC;\n",
              "    }\n",
              "\n",
              "    [theme=dark] .colab-df-convert:hover {\n",
              "      background-color: #434B5C;\n",
              "      box-shadow: 0px 1px 3px 1px rgba(0, 0, 0, 0.15);\n",
              "      filter: drop-shadow(0px 1px 2px rgba(0, 0, 0, 0.3));\n",
              "      fill: #FFFFFF;\n",
              "    }\n",
              "  </style>\n",
              "\n",
              "      <script>\n",
              "        const buttonEl =\n",
              "          document.querySelector('#df-6515d4d0-e517-4897-b477-09f560c0ea32 button.colab-df-convert');\n",
              "        buttonEl.style.display =\n",
              "          google.colab.kernel.accessAllowed ? 'block' : 'none';\n",
              "\n",
              "        async function convertToInteractive(key) {\n",
              "          const element = document.querySelector('#df-6515d4d0-e517-4897-b477-09f560c0ea32');\n",
              "          const dataTable =\n",
              "            await google.colab.kernel.invokeFunction('convertToInteractive',\n",
              "                                                     [key], {});\n",
              "          if (!dataTable) return;\n",
              "\n",
              "          const docLinkHtml = 'Like what you see? Visit the ' +\n",
              "            '<a target=\"_blank\" href=https://colab.research.google.com/notebooks/data_table.ipynb>data table notebook</a>'\n",
              "            + ' to learn more about interactive tables.';\n",
              "          element.innerHTML = '';\n",
              "          dataTable['output_type'] = 'display_data';\n",
              "          await google.colab.output.renderOutput(dataTable, element);\n",
              "          const docLink = document.createElement('div');\n",
              "          docLink.innerHTML = docLinkHtml;\n",
              "          element.appendChild(docLink);\n",
              "        }\n",
              "      </script>\n",
              "    </div>\n",
              "  </div>\n",
              "  "
            ]
          },
          "metadata": {},
          "execution_count": 75
        }
      ]
    },
    {
      "cell_type": "code",
      "source": [
        "round(2*sum(df.levels<=T_obs)/len(df),2)"
      ],
      "metadata": {
        "colab": {
          "base_uri": "https://localhost:8080/"
        },
        "id": "qeqa2OEdzO5a",
        "outputId": "c0d5bf0a-108a-4274-f1fc-7d1904e59d2c"
      },
      "execution_count": null,
      "outputs": [
        {
          "output_type": "execute_result",
          "data": {
            "text/plain": [
              "0.37"
            ]
          },
          "metadata": {},
          "execution_count": 76
        }
      ]
    },
    {
      "cell_type": "markdown",
      "source": [
        "(c) Report the p–value by using a t-test."
      ],
      "metadata": {
        "id": "vrIAHWYsU86K"
      }
    },
    {
      "cell_type": "code",
      "source": [
        "stats.ttest_rel(control, treatment)"
      ],
      "metadata": {
        "colab": {
          "base_uri": "https://localhost:8080/"
        },
        "id": "HvrB2uY4U9TR",
        "outputId": "cd836023-0fa3-408e-d941-63663b7f9d95"
      },
      "execution_count": null,
      "outputs": [
        {
          "output_type": "execute_result",
          "data": {
            "text/plain": [
              "Ttest_relResult(statistic=0.995586226461929, pvalue=0.36516098315767737)"
            ]
          },
          "metadata": {},
          "execution_count": 51
        }
      ]
    },
    {
      "cell_type": "markdown",
      "source": [
        "3. By writing the test statistic (difference in sample means) as an explicit function of the potential\n",
        "outcomes and the assignment indicators, show that, under complete randomization, the statistic is\n",
        "unbiased for the average treatment effect. Do the same for the pairwise randomization."
      ],
      "metadata": {
        "id": "Z2BtsYpNYlAo"
      }
    },
    {
      "cell_type": "markdown",
      "source": [
        "Done by hand!\n",
        "\n"
      ],
      "metadata": {
        "id": "suCbV0G9-DNx"
      }
    },
    {
      "cell_type": "markdown",
      "source": [
        "4.  In a study with complete randomization, is it possible for the data to provide evidence that the\n",
        "treatment effect is (or not) additive, i.e. $Yi(1) = Yi(0) + k$ for some fixed $k$ all $i$? If not,\n",
        "explain. If yes, describe briefly how you would use a statistical method to look for evidence\n",
        "against additivity, for example, in the context of the data in Table 1.\n"
      ],
      "metadata": {
        "id": "wFOZAqG6Zral"
      }
    },
    {
      "cell_type": "markdown",
      "source": [
        "\n",
        "Yes. \n",
        "\n",
        "$$Y_i(1) = Y_i(0) + k $$\n",
        "$$Y_i(1) - Y_i(0) = k$$\n",
        "\n",
        "\n",
        "Then, by setting the following hypothesis testing: \n",
        "\n",
        "$$H_0: k = 0$$\n",
        "$$H_A: k = 0$$\n",
        "\n",
        "We can use Fisher's null hypothesis test to check if there is evidence against additivity i.e., if the p value > 0.05, then we can accept the null hypothesis and say there is evidence against additivity. "
      ],
      "metadata": {
        "id": "BK9hHHxQ8Jpm"
      }
    },
    {
      "cell_type": "markdown",
      "source": [
        "###**Part 2: Neyman’s mode of inference of Randomized Experiments**<br/>"
      ],
      "metadata": {
        "id": "VYIoJaluZrxG"
      }
    },
    {
      "cell_type": "markdown",
      "source": [
        "Assume a targeted population has N = 12 units, with the potential outcomes under control and treatment\n",
        "given in Table 2.\n",
        "\n",
        "<center>\n",
        "<caption> Table 2: </caption>\n",
        "  <table>\n",
        "    <tr>\n",
        "      <th>\n",
        "        Y(1)\n",
        "      </th>\n",
        "      <th>\n",
        "        Y(0)\n",
        "      </th>\n",
        "    </tr>\n",
        "    <tr>\n",
        "      <td> 35 </td>\n",
        "      <td> 40 </td> \n",
        "    </tr>\n",
        "    <tr>\n",
        "      <td> 45 </td>\n",
        "      <td> 55 </td> \n",
        "    </tr>\n",
        "    <tr>\n",
        "      <td> 55 </td>\n",
        "      <td> 55 </td> \n",
        "    </tr>\n",
        "    <tr>\n",
        "      <td> 65 </td>\n",
        "      <td> 70 </td> \n",
        "    </tr>\n",
        "    <tr>\n",
        "      <td> 25 </td>\n",
        "      <td> 30 </td> \n",
        "    </tr>\n",
        "    <tr>\n",
        "      <td> 45 </td>\n",
        "      <td> 55 </td> \n",
        "    </tr>\n",
        "    <tr>\n",
        "      <td> 60 </td>\n",
        "      <td> 65 </td> \n",
        "    </tr>\n",
        "    <tr>\n",
        "      <td> 75 </td>\n",
        "      <td> 80 </td> \n",
        "    </tr>\n",
        "    <tr>\n",
        "      <td> 35 </td>\n",
        "      <td> 40 </td> \n",
        "    </tr>\n",
        "    <tr>\n",
        "      <td> 55 </td>\n",
        "      <td> 50 </td> \n",
        "    </tr>\n",
        "    <tr>\n",
        "      <td> 35 </td>\n",
        "      <td> 40 </td> \n",
        "    </tr>\n",
        "    <tr>\n",
        "      <td> 65 </td>\n",
        "      <td> 70 </td> \n",
        "    </tr>\n",
        "  </table>\n",
        "</center>\n"
      ],
      "metadata": {
        "id": "mv38B1woZ5-u"
      }
    },
    {
      "cell_type": "code",
      "source": [
        "treatment = np.array([35, 45, 55, 65, 25, 45, 60, 75, 35, 55, 35, 65])\n",
        "control = np.array([40, 55, 55, 70, 30, 55, 65, 80, 40, 50, 40, 70])\n",
        "N0, N1, N = 2, 2, len(treatment)"
      ],
      "metadata": {
        "id": "_Eu9Z4dWZ5A-"
      },
      "execution_count": null,
      "outputs": []
    },
    {
      "cell_type": "markdown",
      "source": [
        "1. Verify the following formula via simulation, as described below:\n",
        "$$Var[\\tilde{Y}(1) - \\tilde{Y}(0) | \\textbf{Y}(1), \\textbf{Y}(0)] = \\frac{\\sigma_0^2}{N_0} + \\frac{\\sigma_1^2}{N_1} -\\frac{\\sigma_{01}^2}{N}  $$\n",
        ",\n",
        "where $\\sigma_z = \\frac{1}{N-1}\\sum_{i=1}^N (Y_i - \\bar{Y}(z))^2$ is the population variance of $Y(z)$ for $z = 0, 1$, and $\\sigma_{0,1} = \\frac{1}{N-1} \n",
        "\\sum_{i=1}^N(Y_i(1) − Y_i(0) − (\\bar{Y}(1) − \\bar{Y}(0)))^2$ \n",
        "is the population variance of the individual treatment effects (the variance of $Y_i(1) − Y_i(0)$ across the population), $N$ is the total population size, and $N_1$ is the size of the treatment group chosen and $N_0$ is the size of the control group chosen in a completely randomized experiment.\n",
        "\n",
        "   To verify this formula using simulation, use the 12 observations in Table 2 as the population. For each sample of size 4 out of the 12 units in Table 2 (there will be $\\binom {12}{4} = 495$ such samples), randomly assign 2 out of the 4 units (there will be $\\binom {4}{2} = 6$ possible random assignment for each\n",
        "sample of size 4), and compute all possible values of $\\bar{Y}_{obs}(1) - \\bar{Y}_{obs}(0)$ of these 6 randomizations.\n",
        "\n",
        "   Then calculate the variance of these $495 \\times 6$ values of $\\bar{Y}_{obs}(1) - \\bar{Y}_{obs}(0)$, and confirm the formula given above."
      ],
      "metadata": {
        "id": "6ec856wZayRr"
      }
    },
    {
      "cell_type": "markdown",
      "source": [
        "#### Calculate the Variance Using the Formula Above"
      ],
      "metadata": {
        "id": "TujXfR_b_Z3b"
      }
    },
    {
      "cell_type": "code",
      "source": [
        "s2_1 = sum((treatment-treatment.mean())**2)/(N - 1)\n",
        "s2_0 = sum((control-control.mean())**2)/(N - 1)\n",
        "s2_01 = sum((treatment - control - (treatment.mean() - control.mean()))**2)/(N-1)\n",
        "\n",
        "s2_0/N0 + s2_1/N1 - s2_01/N"
      ],
      "metadata": {
        "colab": {
          "base_uri": "https://localhost:8080/"
        },
        "id": "poNMpgnkZuSr",
        "outputId": "9f8986b2-98db-4747-b753-f41594b1615e"
      },
      "execution_count": null,
      "outputs": [
        {
          "output_type": "execute_result",
          "data": {
            "text/plain": [
              "228.8983585858586"
            ]
          },
          "metadata": {},
          "execution_count": 6
        }
      ]
    },
    {
      "cell_type": "markdown",
      "source": [
        "#### Verify the Formula Using the Simulated Version"
      ],
      "metadata": {
        "id": "AdH8SLmNnYgJ"
      }
    },
    {
      "cell_type": "code",
      "source": [
        "# get the indicies of the 4 bootstrapped samples \n",
        "sampled_idxs = list(combinations(range(12), N0+N1))\n",
        "samples = np.array([[1 if idx in treatment else 0 for idx in range(12)][::-1] for treatment in sampled_idxs], dtype = int)\n",
        "\n",
        "# get the treatment samples\n",
        "treatment_samples = samples*treatment\n",
        "treatment_samples = treatment_samples[treatment_samples>0].reshape((-1, 4))\n",
        "\n",
        "# get the control samples\n",
        "control_samples = samples*control\n",
        "control_samples = control_samples[control_samples>0].reshape((-1, 4))\n",
        "\n",
        "## treatment assignment operator \n",
        "treatment_idxs = list(combinations(range(N0+N1), N1))\n",
        "assigment_operator = np.array([[1 if idx in treatment else 0 for idx in range(N0+N1)] for treatment in treatment_idxs][::-1], dtype = int)\n",
        "\n",
        "# get the y_treatment and y_control\n",
        "y_obs_treatment = (treatment_samples@assigment_operator.T)/2\n",
        "y_obs_control = (control_samples@(1-assigment_operator).T)/2\n",
        "\n",
        "#get the variance of mean(Y(1)) - mean(Y(0))\n",
        "np.var(y_obs_treatment-y_obs_control)"
      ],
      "metadata": {
        "colab": {
          "base_uri": "https://localhost:8080/"
        },
        "id": "CVNICBTVnb92",
        "outputId": "55d7d005-8439-42e8-b049-4aa3e3ed1877"
      },
      "execution_count": null,
      "outputs": [
        {
          "output_type": "execute_result",
          "data": {
            "text/plain": [
              "228.89835858585857"
            ]
          },
          "metadata": {},
          "execution_count": 7
        }
      ]
    },
    {
      "cell_type": "markdown",
      "source": [
        "Since, we get the same results in the simulated version and the in the formula, we can tell that the formula results are valid! "
      ],
      "metadata": {
        "id": "C9Qxopgu_l3q"
      }
    },
    {
      "cell_type": "markdown",
      "source": [
        "2. . Verify that the usual (Neyman) estimator of the variance $\\frac{S_0^2}{N_0}+\\frac{S_1^2}{N_1}$ overestimates the true variance $Var[\\bar{Y}(1) - \\bar{Y}(0)|\\textbf{Y(1)}, \\textbf{Y(0)}]$.  To calculate $E\\left( \\frac{S_0^2}{N_0}+\\frac{S_1^2}{N_1}|\\textbf{Y(1)}, \\textbf{Y(0)}\\right)$, calculate the value\n",
        "of $\\frac{S_0^2}{N_0}+\\frac{S_1^2}{N_1}$ for each of the 495 × 6 possible samples and randomizations, and take the mean. You should find that this is larger than the value of the variance found above, as additivity does not\n",
        "hold here."
      ],
      "metadata": {
        "id": "Ip82Q--HHubG"
      }
    },
    {
      "cell_type": "code",
      "source": [
        "s2_0/N0 + s2_1/N1"
      ],
      "metadata": {
        "id": "CUy4DkR8_q3b",
        "colab": {
          "base_uri": "https://localhost:8080/"
        },
        "outputId": "3c07c259-3d57-49ed-927b-10a40bb30d44"
      },
      "execution_count": null,
      "outputs": [
        {
          "output_type": "execute_result",
          "data": {
            "text/plain": [
              "230.20833333333334"
            ]
          },
          "metadata": {},
          "execution_count": 8
        }
      ]
    },
    {
      "cell_type": "code",
      "source": [
        "y_obs_treatment_control = []\n",
        "for idx in range(495):\n",
        "  treatment_instance = treatment_samples[idx]*assigment_operator\n",
        "  treatment_instance = treatment_instance[treatment_instance>0].reshape((-1, 2))\n",
        "  y_obs_treatment = np.sum((treatment_instance-treatment_instance.mean(axis = 1).reshape((-1,1)))**2, axis = 1)/2\n",
        "\n",
        "  control_instance = control_samples[idx]*assigment_operator\n",
        "  control_instance = control_instance[control_instance>0].reshape((-1, 2))\n",
        "  y_obs_control = np.sum((control_instance-control_instance.mean(axis = 1).reshape((-1,1)))**2, axis = 1)/2\n",
        "  y_obs_treatment_control.append(y_obs_treatment+y_obs_control)\n",
        "\n",
        "np.mean(y_obs_treatment_control)"
      ],
      "metadata": {
        "colab": {
          "base_uri": "https://localhost:8080/"
        },
        "id": "za-762qqoxqJ",
        "outputId": "955446fd-70e1-4f28-bbe5-b2d009cb2b7a"
      },
      "execution_count": null,
      "outputs": [
        {
          "output_type": "execute_result",
          "data": {
            "text/plain": [
              "230.20833333333334"
            ]
          },
          "metadata": {},
          "execution_count": 76
        }
      ]
    },
    {
      "cell_type": "code",
      "source": [],
      "metadata": {
        "id": "LbLF7PgYtkrC"
      },
      "execution_count": null,
      "outputs": []
    }
  ]
}